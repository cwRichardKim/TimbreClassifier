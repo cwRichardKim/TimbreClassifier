{
 "cells": [
  {
   "cell_type": "code",
   "execution_count": 1,
   "metadata": {
    "collapsed": false
   },
   "outputs": [],
   "source": [
    "'''\n",
    "A Reccurent Neural Network (LSTM) implementation example using TensorFlow library.\n",
    "This example is using the MNIST database of handwritten digits (http://yann.lecun.com/exdb/mnist/)\n",
    "Long Short Term Memory paper: http://deeplearning.cs.cmu.edu/pdfs/Hochreiter97_lstm.pdf\n",
    "\n",
    "Author: Aymeric Damien\n",
    "Project: https://github.com/aymericdamien/TensorFlow-Examples/\n",
    "'''\n",
    "\n",
    "import tensorflow as tf\n",
    "from tensorflow.models.rnn import rnn, rnn_cell\n",
    "import numpy as np\n",
    "\n",
    "import os\n",
    "from os import path\n",
    "import sys\n",
    "import random\n",
    "from random import randint\n",
    "\n",
    "import numpy, scipy, matplotlib.pyplot as plt, pandas, librosa"
   ]
  },
  {
   "cell_type": "code",
   "execution_count": 2,
   "metadata": {
    "collapsed": false
   },
   "outputs": [
    {
     "name": "stdout",
     "output_type": "stream",
     "text": [
      "num datapoints: 408\n",
      "update per 40\n",
      "0 adding classical_short_50/song5_960.mp3 to classical\n",
      "1 adding classical_short_50/song0_2607.mp3 to classical\n",
      "2 adding classical_short_50/song8_5408.mp3 to classical\n",
      "3 adding classical_short_50/song2_3073.mp3 to classical\n",
      "4 adding classical_short_50/song3_5259.mp3 to classical\n",
      "5 adding classical_short_50/song0_7611.mp3 to classical\n",
      "6 adding classical_short_50/song9_4888.mp3 to classical\n",
      "7 adding classical_short_50/song9_4270.mp3 to classical\n",
      "8 adding classical_short_50/song3_1114.mp3 to classical\n",
      "9 adding classical_short_50/song0_4255.mp3 to classical\n",
      "10 adding classical_short_50/song4_1894.mp3 to classical\n",
      "update per 40\n",
      "0 adding country_short_50/song7_3483.mp3 to country\n",
      "1 adding country_short_50/song3_2954.mp3 to country\n",
      "2 adding country_short_50/song5_2040.mp3 to country\n",
      "3 adding country_short_50/song1_1840.mp3 to country\n",
      "4 adding country_short_50/song9_1008.mp3 to country\n",
      "5 adding country_short_50/song6_2478.mp3 to country\n",
      "6 adding country_short_50/song1_3285.mp3 to country\n",
      "7 adding country_short_50/song5_2923.mp3 to country\n",
      "8 adding country_short_50/song4_3568.mp3 to country\n",
      "9 adding country_short_50/song4_605.mp3 to country\n",
      "10 adding country_short_50/song2_3226.mp3 to country\n",
      "number of classical slices: 408\n",
      "number of classical training slices: 371\n",
      "number of classical testing slices: 37\n",
      "number of country slices: 408\n",
      "number of country training slices: 371\n",
      "number of country testing slices: 37\n"
     ]
    }
   ],
   "source": [
    "slicelength = 50\n",
    "feature_power = 2 #TODO play with this\n",
    "data_proportion = .01\n",
    "\n",
    "classical_names = [f for f in os.listdir(\"./classical_short_%i/\" % slicelength)]\n",
    "country_names = [f for f in os.listdir(\"./country_short_%i/\" % slicelength)]\n",
    "\n",
    "num_datapoints = int(min(len(classical_names), len(country_names)) * data_proportion)\n",
    "print \"num datapoints: \" + str(num_datapoints)\n",
    "\n",
    "random.shuffle(classical_names)\n",
    "random.shuffle(country_names)\n",
    "classical_names = classical_names[0:num_datapoints]\n",
    "country_names = country_names[0:num_datapoints]\n",
    "\n",
    "def stft_array(names, kind):\n",
    "    update_per = len(names)/10\n",
    "    print \"update per %i\" % update_per\n",
    "    array = []\n",
    "    for i, x in enumerate(names):\n",
    "        song_path = '%s_short_%i/%s' % (kind, slicelength, x)\n",
    "        if i%update_per == 0:\n",
    "            sys.stdout.write(str(i/update_per) + \" \")\n",
    "            print \"adding \" + song_path + \" to \" + kind\n",
    "        csong_stft = librosa.stft(librosa.load(song_path)[0])\n",
    "        csong_log_stft = librosa.logamplitude(np.abs(csong_stft)**feature_power,ref_power=np.max)\n",
    "#         csong_log_stft = [abs(item)/80.0 for sublist in csong_log_stft for item in sublist] #TODO: consider removing abs / 80\n",
    "        array.append(csong_log_stft.T)\n",
    "    return array\n",
    "\n",
    "#shape is 4 by 1025\n",
    "classical_train = stft_array(classical_names, 'classical')\n",
    "country_train = stft_array(country_names, 'country')\n",
    "\n",
    "test_classical = []\n",
    "test_country = []\n",
    "\n",
    "print \"number of classical slices: %i\" % len(classical_train)\n",
    "\n",
    "while len(test_classical) < len(classical_train) / 10:\n",
    "    r = randint(0, len(classical_train) - 1)\n",
    "    test_classical.append(classical_train[r])\n",
    "    del classical_train[r]\n",
    "    \n",
    "print \"number of classical training slices: %i\" % len(classical_train)\n",
    "print \"number of classical testing slices: %i\" % len(test_classical)\n",
    "\n",
    "print \"number of country slices: %i\" % len(country_train)\n",
    "while len(test_country) < len(country_train) / 10:\n",
    "    r = randint(0, len(country_train) - 1)\n",
    "    test_country.append(country_train[r])\n",
    "    del country_train[r]\n",
    "    \n",
    "print \"number of country training slices: %i\" % len(country_train)\n",
    "print \"number of country testing slices: %i\" % len(test_country)"
   ]
  },
  {
   "cell_type": "code",
   "execution_count": 2,
   "metadata": {
    "collapsed": false
   },
   "outputs": [
    {
     "name": "stdout",
     "output_type": "stream",
     "text": [
      "Extracting MNIST_data/train-images-idx3-ubyte.gz\n",
      "Extracting MNIST_data/train-labels-idx1-ubyte.gz\n",
      "Extracting MNIST_data/t10k-images-idx3-ubyte.gz\n",
      "Extracting MNIST_data/t10k-labels-idx1-ubyte.gz\n",
      "All types check out\n",
      "training: 55000\n",
      "testing: 10000\n",
      "num features: 784\n"
     ]
    }
   ],
   "source": [
    "testing_with_mnist = True\n",
    "\n",
    "if testing_with_mnist:\n",
    "    # testing to see if mnist will work here\n",
    "    from tensorflow.examples.tutorials.mnist import input_data\n",
    "    mnist = input_data.read_data_sets(\"MNIST_data/\", one_hot=True)\n",
    "\n",
    "    training = mnist.train.images\n",
    "    testing = mnist.test.images\n",
    "    training_validation_one_hot = mnist.train.labels\n",
    "    testing_validation_one_hot = mnist.test.labels\n",
    "else:\n",
    "    training = (numpy.array(classical_train + country_train)).astype(numpy.float32)\n",
    "    testing = (numpy.array(test_classical + test_country)).astype(numpy.float32)\n",
    "    classical_one_hot = numpy.array([0,1])\n",
    "    country_one_hot = numpy.array([1,0])\n",
    "    training_validation_one_hot = (numpy.array([classical_one_hot for x in classical_train] + [country_one_hot for x in country_train])).astype(numpy.float32)\n",
    "    testing_validation_one_hot = (numpy.array([classical_one_hot for x in test_classical] + [country_one_hot for x in test_country])).astype(numpy.float32)\n",
    "\n",
    "def type_check(array_types, num_types):\n",
    "    error_flag = False\n",
    "    for x in array_types:\n",
    "        if type(x) is numpy.ndarray:\n",
    "            print \"ARRAY TYPE ERROR\"\n",
    "            error_flag = True\n",
    "    for x in num_types:\n",
    "        if type(x) is numpy.float32:\n",
    "            print \"NUM TYPE ERROR\"\n",
    "            error_flag = True \n",
    "    if not error_flag:\n",
    "        print \"All types check out\"\n",
    "        \n",
    "array_types = [type(training), type(training[0]), type(training_validation_one_hot), type(training_validation_one_hot[0]),\n",
    "              type(testing), type(testing[0]), type(testing_validation_one_hot), type(testing_validation_one_hot[0])]\n",
    "num_types = [type(training[0][0]), type(training_validation_one_hot[0][0]), type(testing[0][0]), type(testing_validation_one_hot[0][0])]\n",
    "type_check(array_types, num_types)      \n",
    "\n",
    "if len(training)==len(training_validation_one_hot) and len(testing) == len(testing_validation_one_hot) and len(training[0])==len(testing[0]):\n",
    "    print \"training: \" + str(len(training))\n",
    "    print \"testing: \" + str(len(testing))\n",
    "    print \"num features: \" + str(len(training[0]))\n",
    "else:\n",
    "    print \"ERROR\""
   ]
  },
  {
   "cell_type": "code",
   "execution_count": 3,
   "metadata": {
    "collapsed": false
   },
   "outputs": [
    {
     "name": "stdout",
     "output_type": "stream",
     "text": [
      "All types check out\n",
      "All types check out\n"
     ]
    }
   ],
   "source": [
    "def shuffle_array(xs, ys):\n",
    "    zipped = zip(xs,ys)\n",
    "    random.shuffle(zipped)\n",
    "    return zip(*zipped)\n",
    "# print training_validation_one_hot[0:10]\n",
    "type_check(array_types, num_types)\n",
    "\n",
    "training, training_validation_one_hot = shuffle_array(training, training_validation_one_hot)\n",
    "testing, testing_validation_one_hot = shuffle_array(testing, testing_validation_one_hot)\n",
    "\n",
    "# print training_validation_one_hot[0:10]\n",
    "type_check(array_types, num_types)\n",
    "\n",
    "# print training[5:10]"
   ]
  },
  {
   "cell_type": "code",
   "execution_count": 4,
   "metadata": {
    "collapsed": false
   },
   "outputs": [],
   "source": [
    "'''\n",
    "To classify images using a reccurent neural network, we consider every image row as a sequence of pixels.\n",
    "Because MNIST image shape is 28*28px, we will then handle 28 sequences of 28 steps for every sample.\n",
    "'''\n",
    "\n",
    "# Parameters\n",
    "learning_rate = 0.001\n",
    "training_iters = 100000\n",
    "batch_size = 128\n",
    "display_step = 10\n",
    "\n",
    "if testing_with_mnist:\n",
    "    # Network Parameters\n",
    "    n_input = 28 # MNIST data input (img shape: 28*28)\n",
    "    n_steps = 28 # timesteps\n",
    "    n_hidden = 128 # hidden layer num of features\n",
    "    n_classes = 10 # MNIST total classes (0-9 digits)\n",
    "else:\n",
    "    # Parameters\n",
    "    learning_rate = 0.001\n",
    "    training_iters = 100000\n",
    "    batch_size = 128 #TODO: play with\n",
    "    display_step = 10\n",
    "\n",
    "    # Network Parameters\n",
    "    n_input = len(training[0][0])\n",
    "    n_steps = len(training[0])\n",
    "    n_hidden = 128 #TODO: play with\n",
    "    n_classes = 2\n",
    "    \n",
    "#REMEMBER: mnist is row x column. my data is column x row. shouldn't actually matter"
   ]
  },
  {
   "cell_type": "code",
   "execution_count": 5,
   "metadata": {
    "collapsed": false
   },
   "outputs": [],
   "source": [
    "# tf Graph input\n",
    "x = tf.placeholder(\"float\", [None, n_steps, n_input])\n",
    "istate = tf.placeholder(\"float\", [None, 2*n_hidden]) #state & cell => 2x n_hidden\n",
    "y = tf.placeholder(\"float\", [None, n_classes])\n",
    "\n",
    "# Define weights\n",
    "weights = {\n",
    "    'hidden': tf.Variable(tf.random_normal([n_input, n_hidden])), # Hidden layer weights\n",
    "    'out': tf.Variable(tf.random_normal([n_hidden, n_classes]))\n",
    "}\n",
    "biases = {\n",
    "    'hidden': tf.Variable(tf.random_normal([n_hidden])),\n",
    "    'out': tf.Variable(tf.random_normal([n_classes]))\n",
    "}"
   ]
  },
  {
   "cell_type": "code",
   "execution_count": 6,
   "metadata": {
    "collapsed": true
   },
   "outputs": [],
   "source": [
    "def RNN(_X, _istate, _weights, _biases):\n",
    "    # input shape: (batch_size, n_steps, n_input)\n",
    "    _X = tf.transpose(_X, [1, 0, 2])  # permute n_steps and batch_size\n",
    "    # Reshape to prepare input to hidden activation\n",
    "    _X = tf.reshape(_X, [-1, n_input]) # (n_steps*batch_size, n_input)\n",
    "    # Linear activation\n",
    "    _X = tf.matmul(_X, _weights['hidden']) + _biases['hidden']\n",
    "\n",
    "    # Define a lstm cell with tensorflow\n",
    "    lstm_cell = rnn_cell.BasicLSTMCell(n_hidden, forget_bias=1.0)\n",
    "    # Split data because rnn cell needs a list of inputs for the RNN inner loop\n",
    "    _X = tf.split(0, n_steps, _X) # n_steps * (batch_size, n_hidden)\n",
    "\n",
    "    # Get lstm cell output\n",
    "    outputs, states = rnn.rnn(lstm_cell, _X, initial_state=_istate)\n",
    "\n",
    "    # Linear activation\n",
    "    # Get inner loop last output\n",
    "    return tf.matmul(outputs[-1], _weights['out']) + _biases['out']"
   ]
  },
  {
   "cell_type": "code",
   "execution_count": 7,
   "metadata": {
    "collapsed": true
   },
   "outputs": [],
   "source": [
    "pred = RNN(x, istate, weights, biases)\n",
    "\n",
    "# Define loss and optimizer\n",
    "cost = tf.reduce_mean(tf.nn.softmax_cross_entropy_with_logits(pred, y)) # Softmax loss\n",
    "optimizer = tf.train.AdamOptimizer(learning_rate=learning_rate).minimize(cost) # Adam Optimizer\n",
    "\n",
    "# Evaluate model\n",
    "correct_pred = tf.equal(tf.argmax(pred,1), tf.argmax(y,1))\n",
    "\n",
    "accuracy = tf.reduce_mean(tf.cast(correct_pred, tf.float32))"
   ]
  },
  {
   "cell_type": "code",
   "execution_count": null,
   "metadata": {
    "collapsed": false
   },
   "outputs": [
    {
     "name": "stdout",
     "output_type": "stream",
     "text": [
      "Iter 1280, Minibatch Loss= 1.814074, Training Accuracy= 0.34375\n",
      "Iter 2560, Minibatch Loss= 1.475978, Training Accuracy= 0.52344\n",
      "Iter 3840, Minibatch Loss= 1.268493, Training Accuracy= 0.64062\n",
      "Iter 5120, Minibatch Loss= 1.056448, Training Accuracy= 0.63281"
     ]
    }
   ],
   "source": [
    "def next_batch(xs, ys, batch_num):\n",
    "    length = len(xs)\n",
    "    start = (batch_num * batch_size) % length\n",
    "    if start + batch_size > length:\n",
    "        training, training_validation_one_hot = shuffle_array(xs,ys)\n",
    "        # Start next epoch\n",
    "        start = 0\n",
    "    end = start + batch_size\n",
    "    return np.array(xs[start:end]), np.array(ys[start:end])\n",
    "\n",
    "# Initializing the variables\n",
    "init = tf.initialize_all_variables()\n",
    "\n",
    "# Launch the graph\n",
    "with tf.Session() as sess:\n",
    "    sess.run(init)\n",
    "    step = 1\n",
    "    # Keep training until reach max iterations\n",
    "    while step * batch_size < training_iters:\n",
    "        batch_xs, batch_ys = next_batch(training, training_validation_one_hot, step)\n",
    "        if testing_with_mnist:\n",
    "            # Reshape data to get 28 seq of 28 elements\n",
    "            batch_xs = batch_xs.reshape((batch_size, n_steps, n_input))\n",
    "        # Fit training using batch data\n",
    "        sess.run(optimizer, feed_dict={x: batch_xs, y: batch_ys, istate: np.zeros((batch_size, 2*n_hidden))})\n",
    "        if step % display_step == 0:\n",
    "            # Calculate batch accuracy\n",
    "            acc = sess.run(accuracy, feed_dict={x: batch_xs, y: batch_ys, istate: np.zeros((batch_size, 2*n_hidden))})\n",
    "            # Calculate batch loss\n",
    "            loss = sess.run(cost, feed_dict={x: batch_xs, y: batch_ys, istate: np.zeros((batch_size, 2*n_hidden))})\n",
    "            print \"Iter \" + str(step*batch_size) + \", Minibatch Loss= \" + \"{:.6f}\".format(loss) + \", Training Accuracy= \" + \"{:.5f}\".format(acc)\n",
    "        step += 1\n",
    "    print \"Optimization Finished!\"\n",
    "    # Calculate accuracy for 256 mnist test images\n",
    "    if testing_with_mnist:\n",
    "        testing = testing.reshape((-1, 28, 28))\n",
    "    print \"Testing Accuracy:\", sess.run(accuracy, feed_dict={x: testing, y: testing_validation_one_hot, istate: np.zeros((test_len, 2*n_hidden))})"
   ]
  },
  {
   "cell_type": "code",
   "execution_count": null,
   "metadata": {
    "collapsed": true
   },
   "outputs": [],
   "source": []
  }
 ],
 "metadata": {
  "kernelspec": {
   "display_name": "Python 2",
   "language": "python",
   "name": "python2"
  },
  "language_info": {
   "codemirror_mode": {
    "name": "ipython",
    "version": 2
   },
   "file_extension": ".py",
   "mimetype": "text/x-python",
   "name": "python",
   "nbconvert_exporter": "python",
   "pygments_lexer": "ipython2",
   "version": "2.7.11"
  }
 },
 "nbformat": 4,
 "nbformat_minor": 0
}
